{
 "cells": [
  {
   "cell_type": "code",
   "execution_count": null,
   "id": "0d3e2609",
   "metadata": {},
   "outputs": [],
   "source": [
    "import pandas as pd\n",
    "import numpy as np\n",
    "import seaborn as sns\n",
    "import matplotlib.pyplot as plt\n",
    "from sklearn.model_selection import train_test_split\n",
    "from sklearn.linear_model import LinearRegression\n",
    "from sklearn.metrics import mean_squared_error, r2_score\n",
    "import pickle\n",
    "\n",
    "# Load dataset\n",
    "HouseDF = pd.read_csv(\"House Price India.csv\")\n"
   ]
  },
  {
   "cell_type": "code",
   "execution_count": null,
   "id": "1c8accf1",
   "metadata": {},
   "outputs": [],
   "source": [
    "# Check for missing values\n",
    "print(\"Missing Values:\\n\", HouseDF.isnull().sum())\n",
    "\n",
    "# Drop duplicates\n",
    "HouseDF = HouseDF.drop_duplicates()\n",
    "\n",
    "# Display first few rows\n",
    "HouseDF.head()"
   ]
  },
  {
   "cell_type": "code",
   "execution_count": null,
   "id": "0f939648",
   "metadata": {},
   "outputs": [],
   "source": [
    "# Visualizations\n",
    "sns.pairplot(HouseDF)\n",
    "plt.show()\n",
    "\n",
    "# Correlation heatmap\n",
    "sns.heatmap(HouseDF.corr(), annot=True, cmap=\"coolwarm\")\n",
    "plt.show()"
   ]
  },
  {
   "cell_type": "code",
   "execution_count": null,
   "id": "00c0ffb9",
   "metadata": {},
   "outputs": [],
   "source": [
    "# Feature and target split\n",
    "x = HouseDF.drop('price', axis=1)\n",
    "y = HouseDF['price']\n",
    "\n",
    "# Train-test split\n",
    "x_train, x_test, y_train, y_test = train_test_split(x, y, test_size=0.4, random_state=101)\n"
   ]
  },
  {
   "cell_type": "code",
   "execution_count": null,
   "id": "88e2d3f1",
   "metadata": {},
   "outputs": [],
   "source": [
    "# Train linear regression model\n",
    "lm = LinearRegression()\n",
    "lm.fit(x_train, y_train)\n",
    "\n",
    "# Predict\n",
    "prediction = lm.predict(x_test)\n",
    "\n",
    "# Evaluation\n",
    "print(\"R² Score:\", r2_score(y_test, prediction))\n",
    "print(\"Mean Squared Error:\", mean_squared_error(y_test, prediction))"
   ]
  },
  {
   "cell_type": "code",
   "execution_count": null,
   "id": "6e41f439",
   "metadata": {},
   "outputs": [],
   "source": [
    "# Plot predictions\n",
    "plt.scatter(y_test, prediction)\n",
    "plt.xlabel(\"Actual Price\")\n",
    "plt.ylabel(\"Predicted Price\")\n",
    "plt.title(\"Actual vs Predicted Price\")\n",
    "plt.show()"
   ]
  },
  {
   "cell_type": "code",
   "execution_count": null,
   "id": "658040a5",
   "metadata": {},
   "outputs": [],
   "source": [
    "# Save model\n",
    "with open(\"model.pkl\", \"wb\") as f:\n",
    "    pickle.dump(lm, f)"
   ]
  }
 ],
 "metadata": {},
 "nbformat": 4,
 "nbformat_minor": 5
}
